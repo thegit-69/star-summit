{
  "nbformat": 4,
  "nbformat_minor": 0,
  "metadata": {
    "colab": {
      "provenance": [],
      "mount_file_id": "1YKe1esb-EZ-u75fUyUD-cAnWWZ7iSGdO",
      "authorship_tag": "ABX9TyMKyZlKiZ6zwfK7cFuI2Uph",
      "include_colab_link": true
    },
    "kernelspec": {
      "name": "python3",
      "display_name": "Python 3"
    },
    "language_info": {
      "name": "python"
    }
  },
  "cells": [
    {
      "cell_type": "markdown",
      "metadata": {
        "id": "view-in-github",
        "colab_type": "text"
      },
      "source": [
        "<a href=\"https://colab.research.google.com/github/thegit-69/star-summit/blob/main/test_3_RF.ipynb\" target=\"_parent\"><img src=\"https://colab.research.google.com/assets/colab-badge.svg\" alt=\"Open In Colab\"/></a>"
      ]
    },
    {
      "cell_type": "code",
      "execution_count": null,
      "metadata": {
        "colab": {
          "base_uri": "https://localhost:8080/"
        },
        "id": "5nYqYdWSc2M9",
        "outputId": "058d5b19-5984-49b5-df93-25edab336688"
      },
      "outputs": [
        {
          "output_type": "stream",
          "name": "stdout",
          "text": [
            "Iteration 1: Accuracy = 97.58%\n",
            "Iteration 2: Accuracy = 97.72%\n",
            "Iteration 3: Accuracy = 97.74%\n",
            "Iteration 4: Accuracy = 97.66%\n",
            "Iteration 5: Accuracy = 97.55%\n",
            "Iteration 6: Accuracy = 97.62%\n",
            "Iteration 7: Accuracy = 97.69%\n",
            "Iteration 8: Accuracy = 97.55%\n",
            "Iteration 9: Accuracy = 97.61%\n",
            "Iteration 10: Accuracy = 97.53%\n"
          ]
        }
      ],
      "source": [
        "import pandas as pd\n",
        "from sklearn.model_selection import train_test_split\n",
        "from sklearn.ensemble import RandomForestClassifier\n",
        "from sklearn.metrics import accuracy_score\n",
        "\n",
        "# Load the dataset\n",
        "data = pd.read_csv('/content/drive/MyDrive/data sets/UNSW_NB15_training-set.csv')\n",
        "\n",
        "# Drop the 'id' column as it is not useful for prediction\n",
        "data = data.drop(columns=['id'])\n",
        "\n",
        "# Convert categorical columns to numerical using one-hot encoding\n",
        "data = pd.get_dummies(data, columns=['proto', 'service', 'state'])\n",
        "\n",
        "# Separate features and target variable\n",
        "X = data.drop(columns=['attack_cat', 'label'])\n",
        "y = data['label']\n",
        "\n",
        "# Initialize a list to store accuracy values\n",
        "accuracy_scores = []\n",
        "\n",
        "# Perform 10 iterations of training and testing\n",
        "for i in range(10):\n",
        "    # Split the data into training and testing sets\n",
        "    X_train, X_test, y_train, y_test = train_test_split(X, y, test_size=0.3, random_state=i)\n",
        "\n",
        "    # Initialize the Random Forest classifier\n",
        "    rf_classifier = RandomForestClassifier(n_estimators=100, random_state=i)\n",
        "\n",
        "    # Train the model\n",
        "    rf_classifier.fit(X_train, y_train)\n",
        "\n",
        "    # Make predictions on the test set\n",
        "    y_pred = rf_classifier.predict(X_test)\n",
        "\n",
        "    # Calculate accuracy\n",
        "    accuracy = accuracy_score(y_test, y_pred)\n",
        "\n",
        "    # Append the accuracy to the list\n",
        "    accuracy_scores.append(accuracy)\n",
        "\n",
        "# Print the accuracy values\n",
        "for i, accuracy in enumerate(accuracy_scores):\n",
        "    print(f\"Iteration {i+1}: Accuracy = {accuracy * 100:.2f}%\")"
      ]
    }
  ]
}